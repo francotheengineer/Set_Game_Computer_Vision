{
 "cells": [
  {
   "cell_type": "code",
   "execution_count": 1,
   "metadata": {},
   "outputs": [],
   "source": [
    "import cv2\n",
    "import numpy as np\n",
    "\n",
    "\n",
    "cap = cv2.VideoCapture(0)\n",
    "\n",
    "def nothing(x):\n",
    "    pass\n",
    "# Creating a window for later use\n",
    "cv2.namedWindow('result')\n",
    "\n",
    "# Starting with 100's to prevent error while masking\n",
    "h,s,v = 100,100,100\n",
    "\n",
    "# Creating track bar\n",
    "cv2.createTrackbar('h', 'result',0,179,nothing)\n",
    "cv2.createTrackbar('s', 'result',0,255,nothing)\n",
    "cv2.createTrackbar('v', 'result',0,255,nothing)\n",
    "\n",
    "while(1):\n",
    "\n",
    "    _, frame = cap.read()\n",
    "\n",
    "    #converting to HSV\n",
    "    hsv = cv2.cvtColor(frame,cv2.COLOR_BGR2HSV)\n",
    "\n",
    "    # get info from track bar and appy to result\n",
    "    h = cv2.getTrackbarPos('h','result')\n",
    "    s = cv2.getTrackbarPos('s','result')\n",
    "    v = cv2.getTrackbarPos('v','result')\n",
    "\n",
    "    # Normal masking algorithm\n",
    "    lower_blue = np.array([h,s,v])\n",
    "    upper_blue = np.array([180,255,255])\n",
    "\n",
    "    mask = cv2.inRange(hsv,lower_blue, upper_blue)\n",
    "\n",
    "    result = cv2.bitwise_and(frame,frame,mask = mask)\n",
    "\n",
    "    cv2.imshow('result',result)\n",
    "\n",
    "    k = cv2.waitKey(5) & 0xFF\n",
    "    if k == 27:\n",
    "        break\n",
    "\n",
    "cap.release()\n",
    "\n",
    "cv2.destroyAllWindows()"
   ]
  },
  {
   "cell_type": "code",
   "execution_count": null,
   "metadata": {},
   "outputs": [],
   "source": []
  }
 ],
 "metadata": {
  "kernelspec": {
   "display_name": "Python 3",
   "language": "python",
   "name": "python3"
  },
  "language_info": {
   "codemirror_mode": {
    "name": "ipython",
    "version": 3
   },
   "file_extension": ".py",
   "mimetype": "text/x-python",
   "name": "python",
   "nbconvert_exporter": "python",
   "pygments_lexer": "ipython3",
   "version": "3.6.5"
  }
 },
 "nbformat": 4,
 "nbformat_minor": 2
}
